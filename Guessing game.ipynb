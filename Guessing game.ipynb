{
 "cells": [
  {
   "cell_type": "code",
   "execution_count": 1,
   "metadata": {},
   "outputs": [
    {
     "name": "stdout",
     "output_type": "stream",
     "text": [
      "Guess counter 1\n",
      "Guess counter 1\n"
     ]
    }
   ],
   "source": [
    "correct= \"Lauri\"\n",
    "counter = 0\n",
    "while True:\n",
    "    guess = input (\"Please guess my name\")\n",
    "    if guess == correct:\n",
    "        counter = counter + 1 \n",
    "        print(\"Congratulation\")\n",
    "        print(\"Guess counter\", counter)\n",
    "        break\n",
    "    else:\n",
    "        guess != correct\n",
    "        counter = counter + 1\n",
    "        print(\"Guess counter\", counter)\n",
    "        lopeta = input(\"Do you want to quit (y/n) ?\")\n",
    "        if lopeta == \"y\":\n",
    "            print(\"Guess counter\", counter)\n",
    "            break"
   ]
  }
 ],
 "metadata": {
  "kernelspec": {
   "display_name": "Python 3",
   "language": "python",
   "name": "python3"
  },
  "language_info": {
   "codemirror_mode": {
    "name": "ipython",
    "version": 3
   },
   "file_extension": ".py",
   "mimetype": "text/x-python",
   "name": "python",
   "nbconvert_exporter": "python",
   "pygments_lexer": "ipython3",
   "version": "3.12.0"
  }
 },
 "nbformat": 4,
 "nbformat_minor": 2
}
