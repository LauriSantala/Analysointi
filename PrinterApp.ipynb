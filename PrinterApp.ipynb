{
 "cells": [
  {
   "cell_type": "code",
   "execution_count": 17,
   "metadata": {},
   "outputs": [
    {
     "name": "stdout",
     "output_type": "stream",
     "text": [
      "Printer App\n",
      "This app is made by: Lauri\n",
      "The value of number1 is: 10\n",
      "The value of number2 is: 3\n",
      "30\n",
      "10 * 3 = 30\n",
      "3.3333333333333335\n",
      "7\n",
      "10 / 3 = 3.3333333333333335\n",
      "10 - 3 = 7\n"
     ]
    }
   ],
   "source": [
    "creator= \"Lauri\"\n",
    "number1= 10\n",
    "number2= 3\n",
    "multiplication= number1 * number2\n",
    "division= number1 / number2\n",
    "substraction= number1 - number2\n",
    "print (\"Printer App\")\n",
    "\n",
    "print (\"This app is made by:\",creator)\n",
    "\n",
    "#print (number1)\n",
    "print (\"The value of number1 is:\" ,number1 )\n",
    "print (\"The value of number2 is:\", number2)\n",
    "print (multiplication)\n",
    "print (number1, \"*\" ,number2, \"=\", multiplication)\n",
    "print (division)\n",
    "print (substraction)\n",
    "print (number1, \"/\", number2, \"=\", division)\n",
    "print (number1, \"-\", number2, \"=\" , substraction)\n"
   ]
  }
 ],
 "metadata": {
  "kernelspec": {
   "display_name": "Python 3",
   "language": "python",
   "name": "python3"
  },
  "language_info": {
   "codemirror_mode": {
    "name": "ipython",
    "version": 3
   },
   "file_extension": ".py",
   "mimetype": "text/x-python",
   "name": "python",
   "nbconvert_exporter": "python",
   "pygments_lexer": "ipython3",
   "version": "3.12.0"
  }
 },
 "nbformat": 4,
 "nbformat_minor": 2
}
