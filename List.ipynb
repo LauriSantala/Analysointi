{
 "cells": [
  {
   "cell_type": "code",
   "execution_count": 24,
   "metadata": {},
   "outputs": [
    {
     "name": "stdout",
     "output_type": "stream",
     "text": [
      "['table', 'chair', 'self', 'sofa']\n",
      "['table', 'chair']\n",
      "['table', 'chair']\n",
      "yes 'sofa' is in the furniture list\n"
     ]
    }
   ],
   "source": [
    "furniture = [\"table\", \"chair\", \"self\",\"sofa\"]\n",
    "print(furniture)\n",
    "print(furniture[0:2])\n",
    "print(furniture[:2])\n",
    "if \"sofa\" in furniture:\n",
    "    print(\"yes 'sofa' is in the furniture list\")\n",
    "elif \"sofa\" != furniture:\n",
    "    print(\"'sofa' is not on the furniture list\")"
   ]
  },
  {
   "cell_type": "code",
   "execution_count": 54,
   "metadata": {},
   "outputs": [
    {
     "name": "stdout",
     "output_type": "stream",
     "text": [
      "2\n",
      "[1, 3, 5, 9, 7]\n",
      "25\n",
      "9\n"
     ]
    }
   ],
   "source": [
    "import random\n",
    "print (random.randint(1,9))\n",
    "throwDiceNumbers = [1,3,5,9,7]\n",
    "print (throwDiceNumbers)\n",
    "print (sum(throwDiceNumbers))\n",
    "print (max(throwDiceNumbers))"
   ]
  },
  {
   "cell_type": "code",
   "execution_count": 19,
   "metadata": {},
   "outputs": [
    {
     "name": "stdout",
     "output_type": "stream",
     "text": [
      "[5, 8, 19, 20, 10]\n"
     ]
    }
   ],
   "source": [
    "import random\n",
    "def generateRandomNumbers():\n",
    "    numbers=list(range(1,21))\n",
    "    random.shuffle(numbers)\n",
    "    selectNumbers=numbers[:5]\n",
    "    return selectNumbers\n",
    "randomNumbers=generateRandomNumbers()\n",
    "print(randomNumbers)"
   ]
  }
 ],
 "metadata": {
  "kernelspec": {
   "display_name": "Python 3",
   "language": "python",
   "name": "python3"
  },
  "language_info": {
   "codemirror_mode": {
    "name": "ipython",
    "version": 3
   },
   "file_extension": ".py",
   "mimetype": "text/x-python",
   "name": "python",
   "nbconvert_exporter": "python",
   "pygments_lexer": "ipython3",
   "version": "3.12.0"
  }
 },
 "nbformat": 4,
 "nbformat_minor": 2
}
